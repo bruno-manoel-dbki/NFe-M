{
 "cells": [
  {
   "cell_type": "code",
   "execution_count": 1,
   "metadata": {},
   "outputs": [],
   "source": [
    "#!/usr/bin/env python3\n",
    "# -*- coding: utf-8 -*-\n",
    "\"\"\"\n",
    "Created on Mon Nov 18 22:32:57 2019\n",
    "\n",
    "@author: bruno_dbki\n",
    "\"\"\"\n",
    "\n",
    "\n",
    "\n",
    "import xmltodict\n",
    "import os\n",
    "import pandas as pd"
   ]
  },
  {
   "cell_type": "code",
   "execution_count": 2,
   "metadata": {},
   "outputs": [],
   "source": [
    "values=[]     \n",
    "os.chdir(\"xml\")"
   ]
  },
  {
   "cell_type": "code",
   "execution_count": 10,
   "metadata": {},
   "outputs": [
    {
     "name": "stdout",
     "output_type": "stream",
     "text": [
      "NFe:  NFe35191060642774000148550010000328351973074167\n",
      "odict_keys(['cProd', 'cEAN', 'xProd', 'NCM', 'CEST', 'CFOP', 'uCom', 'qCom', 'vUnCom', 'vProd', 'cEANTrib', 'uTrib', 'qTrib', 'vUnTrib', 'indTot', 'xPed'])\n",
      "NFe:  NFe41191004240670000136550010001114321689665805\n",
      "odict_keys(['cProd', 'cEAN', 'xProd', 'NCM', 'cBenef', 'CFOP', 'uCom', 'qCom', 'vUnCom', 'vProd', 'cEANTrib', 'uTrib', 'qTrib', 'vUnTrib', 'indTot'])\n",
      "NFe:  NFe42191002575973000184550010001173781016395907\n",
      "odict_keys(['cProd', 'cEAN', 'xProd', 'NCM', 'CEST', 'CFOP', 'uCom', 'qCom', 'vUnCom', 'vProd', 'cEANTrib', 'uTrib', 'qTrib', 'vUnTrib', 'vFrete', 'indTot'])\n",
      "NFe:  NFe41191007295822000358550010001237921762238625\n",
      "odict_keys(['cProd', 'cEAN', 'xProd', 'NCM', 'CEST', 'CFOP', 'uCom', 'qCom', 'vUnCom', 'vProd', 'cEANTrib', 'uTrib', 'qTrib', 'vUnTrib', 'indTot'])\n",
      "NFe:  NFe41191007295822000358550010001240941300554390\n",
      "odict_keys(['cProd', 'cEAN', 'xProd', 'NCM', 'CEST', 'CFOP', 'uCom', 'qCom', 'vUnCom', 'vProd', 'cEANTrib', 'uTrib', 'qTrib', 'vUnTrib', 'indTot'])\n"
     ]
    }
   ],
   "source": [
    "for xml in os.listdir():\n",
    "    \n",
    "    with open(xml) as fd:\n",
    "        nfe = xmltodict.parse(fd.read())\n",
    "    \n",
    "    \n",
    "    nfe_id = nfe['nfeProc']['NFe']['infNFe']['@Id'] # infNFe Id\n",
    "    itens = nfe['nfeProc']['NFe']['infNFe']['det']\n",
    "    \n",
    "    print(\"NFe: \", nfe_id)\n",
    "    #print(\"NCM      |   Equipamento\")\n",
    "    print(itens[0]['prod'].keys())\n",
    "    for item in itens:\n",
    "        prods = []\n",
    "        \n",
    "        for key in item['prod'].keys():\n",
    "            prods.append(item['prod'][key])\n",
    "        values.append(prods)\n",
    "        prods.append(nfe_id)\n",
    "        values.append([item['prod']['NCM'],  item['prod']['xProd']])\n",
    "        #print(item.keys())"
   ]
  },
  {
   "cell_type": "code",
   "execution_count": null,
   "metadata": {},
   "outputs": [],
   "source": [
    "                \n",
    "#print(values)\n",
    "df = pd.DataFrame.from_records(values)\n",
    "col = list(item['prod'].keys())\n",
    "col.append('Nfe')\n",
    "df.columns = col\n",
    "#print(df)\n",
    "print(df[['xProd','NCM','CFOP']])\n",
    "#df.set_index()"
   ]
  },
  {
   "cell_type": "markdown",
   "metadata": {},
   "source": [
    "PRoblema atual está nas colunas de cada NFE que não é padrão"
   ]
  },
  {
   "cell_type": "markdown",
   "metadata": {},
   "source": [
    "Preciso criar um dataframe pra cada NFe e fazer um merge considerando todas as colunas possíveis"
   ]
  },
  {
   "cell_type": "markdown",
   "metadata": {},
   "source": [
    "Próxima tarefa é abrir várias NFe's do mesmo CNPJ e validar essa solução\n"
   ]
  },
  {
   "cell_type": "code",
   "execution_count": null,
   "metadata": {},
   "outputs": [],
   "source": []
  }
 ],
 "metadata": {
  "kernelspec": {
   "display_name": "Python 3",
   "language": "python",
   "name": "python3"
  },
  "language_info": {
   "codemirror_mode": {
    "name": "ipython",
    "version": 3
   },
   "file_extension": ".py",
   "mimetype": "text/x-python",
   "name": "python",
   "nbconvert_exporter": "python",
   "pygments_lexer": "ipython3",
   "version": "3.7.6"
  }
 },
 "nbformat": 4,
 "nbformat_minor": 2
}
